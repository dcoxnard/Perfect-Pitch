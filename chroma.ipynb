{
 "cells": [
  {
   "cell_type": "code",
   "execution_count": 1,
   "metadata": {
    "ExecuteTime": {
     "end_time": "2017-12-11T14:58:33.673797Z",
     "start_time": "2017-12-11T14:58:28.748332Z"
    },
    "collapsed": true
   },
   "outputs": [],
   "source": [
    "import glob\n",
    "import librosa\n",
    "import librosa.display\n",
    "import numpy as np\n",
    "import matplotlib.pyplot as plt\n",
    "import matplotlib.style as ms\n",
    "ms.use('seaborn-muted')\n",
    "%matplotlib inline"
   ]
  },
  {
   "cell_type": "markdown",
   "metadata": {},
   "source": [
    "# Testing"
   ]
  },
  {
   "cell_type": "markdown",
   "metadata": {},
   "source": [
    "## .mp3 Format"
   ]
  },
  {
   "cell_type": "markdown",
   "metadata": {},
   "source": [
    "### Load Audio"
   ]
  },
  {
   "cell_type": "code",
   "execution_count": null,
   "metadata": {
    "ExecuteTime": {
     "end_time": "2017-11-30T20:44:50.819694Z",
     "start_time": "2017-11-30T20:44:50.813703Z"
    },
    "collapsed": true
   },
   "outputs": [],
   "source": [
    "audio_path1 = './The Beatles/Please Please Me/01 I Saw Her Standing There.mp3'"
   ]
  },
  {
   "cell_type": "code",
   "execution_count": null,
   "metadata": {
    "ExecuteTime": {
     "end_time": "2017-11-30T20:45:01.621150Z",
     "start_time": "2017-11-30T20:44:50.823271Z"
    },
    "collapsed": true
   },
   "outputs": [],
   "source": [
    "y1, sr1 = librosa.load(audio_path1)"
   ]
  },
  {
   "cell_type": "markdown",
   "metadata": {},
   "source": [
    "### Mel Spectrograms"
   ]
  },
  {
   "cell_type": "code",
   "execution_count": null,
   "metadata": {
    "ExecuteTime": {
     "end_time": "2017-11-30T20:45:04.449712Z",
     "start_time": "2017-11-30T20:45:01.623369Z"
    },
    "collapsed": true
   },
   "outputs": [],
   "source": [
    "S1 = librosa.feature.melspectrogram(y1, sr=sr1, n_mels=128)\n",
    "log_S1 = librosa.power_to_db(S1, ref=np.max)\n",
    "plt.figure(figsize=(16,8))\n",
    "librosa.display.specshow(log_S1, sr=sr1, x_axis='time', y_axis='mel')\n",
    "plt.title(\"Mel Power Sprectrogram\")\n",
    "plt.colorbar(format='%+02.0f dB');"
   ]
  },
  {
   "cell_type": "code",
   "execution_count": null,
   "metadata": {
    "ExecuteTime": {
     "end_time": "2017-11-30T20:45:17.546376Z",
     "start_time": "2017-11-30T20:45:04.451530Z"
    },
    "collapsed": true
   },
   "outputs": [],
   "source": [
    "y_harmonic1, y_percussive1 = librosa.effects.hpss(y1)"
   ]
  },
  {
   "cell_type": "code",
   "execution_count": null,
   "metadata": {
    "ExecuteTime": {
     "end_time": "2017-11-30T20:45:20.325943Z",
     "start_time": "2017-11-30T20:45:17.548564Z"
    },
    "collapsed": true
   },
   "outputs": [],
   "source": [
    "S1 = librosa.feature.melspectrogram(y_harmonic1, sr=sr1, n_mels=128)\n",
    "log_S1 = librosa.power_to_db(S1, ref=np.max)\n",
    "plt.figure(figsize=(16,8))\n",
    "librosa.display.specshow(log_S1, sr=sr1, x_axis='time', y_axis='mel')\n",
    "plt.title(\"Mel Power Sprectrogram: Melodic Elements\")\n",
    "plt.colorbar(format='%+02.0f dB');"
   ]
  },
  {
   "cell_type": "code",
   "execution_count": null,
   "metadata": {
    "ExecuteTime": {
     "end_time": "2017-11-30T20:45:23.187377Z",
     "start_time": "2017-11-30T20:45:20.327924Z"
    },
    "collapsed": true
   },
   "outputs": [],
   "source": [
    "S1 = librosa.feature.melspectrogram(y_percussive1, sr=sr1, n_mels=128)\n",
    "log_S1 = librosa.power_to_db(S1, ref=np.max)\n",
    "plt.figure(figsize=(16,8))\n",
    "librosa.display.specshow(log_S1, sr=sr1, x_axis='time', y_axis='mel')\n",
    "plt.title(\"Mel Power Sprectrogram: Percussive Elements\")\n",
    "plt.colorbar(format='%+02.0f dB');"
   ]
  },
  {
   "cell_type": "markdown",
   "metadata": {},
   "source": [
    "### Chromagram"
   ]
  },
  {
   "cell_type": "code",
   "execution_count": null,
   "metadata": {
    "ExecuteTime": {
     "end_time": "2017-11-30T20:45:27.693375Z",
     "start_time": "2017-11-30T20:45:23.189233Z"
    },
    "collapsed": true,
    "scrolled": false
   },
   "outputs": [],
   "source": [
    "C1 = librosa.feature.chroma_cqt(y_harmonic1, sr=sr1)\n",
    "\n",
    "plt.figure(figsize=(16,8))\n",
    "librosa.display.specshow(C1, sr=sr1, x_axis='time', y_axis='chroma', vmin=0, vmax=1)\n",
    "plt.title(\"Chromagram\", fontsize=20)\n",
    "plt.colorbar()\n",
    "plt.tight_layout();"
   ]
  },
  {
   "cell_type": "markdown",
   "metadata": {},
   "source": [
    "## .wav Format"
   ]
  },
  {
   "cell_type": "markdown",
   "metadata": {},
   "source": [
    "### Load Audio"
   ]
  },
  {
   "cell_type": "code",
   "execution_count": null,
   "metadata": {
    "ExecuteTime": {
     "end_time": "2017-11-30T20:45:27.698532Z",
     "start_time": "2017-11-30T20:45:27.695575Z"
    },
    "collapsed": true
   },
   "outputs": [],
   "source": [
    "audio_path2 = './The Beatles/wav_files/01 I Saw Her Standing There.wav'"
   ]
  },
  {
   "cell_type": "code",
   "execution_count": null,
   "metadata": {
    "ExecuteTime": {
     "end_time": "2017-11-30T20:45:36.289409Z",
     "start_time": "2017-11-30T20:45:27.700947Z"
    },
    "collapsed": true
   },
   "outputs": [],
   "source": [
    "y2, sr2 = librosa.load(audio_path2)"
   ]
  },
  {
   "cell_type": "markdown",
   "metadata": {},
   "source": [
    "### Mel Spectrograms"
   ]
  },
  {
   "cell_type": "code",
   "execution_count": null,
   "metadata": {
    "ExecuteTime": {
     "end_time": "2017-11-30T20:47:27.482177Z",
     "start_time": "2017-11-30T20:47:24.502482Z"
    },
    "collapsed": true
   },
   "outputs": [],
   "source": [
    "S2 = librosa.feature.melspectrogram(y2, sr=sr2, n_mels=128)\n",
    "log_S2 = librosa.power_to_db(S2, ref=np.max)\n",
    "plt.figure(figsize=(16,8))\n",
    "librosa.display.specshow(log_S2, sr=sr2, x_axis='time', y_axis='mel')\n",
    "plt.title(\"Mel Power Sprectrogram\")\n",
    "plt.colorbar(format='%+02.0f dB');"
   ]
  },
  {
   "cell_type": "code",
   "execution_count": null,
   "metadata": {
    "ExecuteTime": {
     "end_time": "2017-11-30T20:47:42.236327Z",
     "start_time": "2017-11-30T20:47:28.232946Z"
    },
    "collapsed": true
   },
   "outputs": [],
   "source": [
    "y_harmonic2, y_percussive2 = librosa.effects.hpss(y2)"
   ]
  },
  {
   "cell_type": "code",
   "execution_count": null,
   "metadata": {
    "ExecuteTime": {
     "end_time": "2017-11-30T20:47:45.145283Z",
     "start_time": "2017-11-30T20:47:42.238782Z"
    },
    "collapsed": true
   },
   "outputs": [],
   "source": [
    "S2 = librosa.feature.melspectrogram(y_harmonic2, sr=sr2, n_mels=128)\n",
    "log_S2 = librosa.power_to_db(S2, ref=np.max)\n",
    "plt.figure(figsize=(16,8))\n",
    "librosa.display.specshow(log_S2, sr=sr2, x_axis='time', y_axis='mel')\n",
    "plt.title(\"Mel Power Sprectrogram: Melodic Elements\")\n",
    "plt.colorbar(format='%+02.0f dB');"
   ]
  },
  {
   "cell_type": "code",
   "execution_count": null,
   "metadata": {
    "ExecuteTime": {
     "end_time": "2017-11-30T20:47:47.997977Z",
     "start_time": "2017-11-30T20:47:45.147262Z"
    },
    "collapsed": true
   },
   "outputs": [],
   "source": [
    "S2 = librosa.feature.melspectrogram(y_percussive2, sr=sr2, n_mels=128)\n",
    "log_S2 = librosa.power_to_db(S2, ref=np.max)\n",
    "plt.figure(figsize=(16,8))\n",
    "librosa.display.specshow(log_S2, sr=sr2, x_axis='time', y_axis='mel')\n",
    "plt.title(\"Mel Power Sprectrogram: Percussive Elements\")\n",
    "plt.colorbar(format='%+02.0f dB');"
   ]
  },
  {
   "cell_type": "markdown",
   "metadata": {},
   "source": [
    "### Chromagram"
   ]
  },
  {
   "cell_type": "code",
   "execution_count": null,
   "metadata": {
    "ExecuteTime": {
     "end_time": "2017-11-30T20:56:16.313184Z",
     "start_time": "2017-11-30T20:56:11.448967Z"
    },
    "collapsed": true,
    "scrolled": false
   },
   "outputs": [],
   "source": [
    "C2 = librosa.feature.chroma_cqt(y_harmonic2, sr=sr2)\n",
    "\n",
    "plt.figure(figsize=(16,8))\n",
    "librosa.display.specshow(C2, sr=sr2, x_axis='time', y_axis='chroma', vmin=0, vmax=1)\n",
    "plt.title(\"Chromagram\", fontsize=20)\n",
    "plt.colorbar()\n",
    "plt.tight_layout();"
   ]
  },
  {
   "cell_type": "markdown",
   "metadata": {},
   "source": [
    "# Pipeline"
   ]
  },
  {
   "cell_type": "code",
   "execution_count": 2,
   "metadata": {
    "ExecuteTime": {
     "end_time": "2017-12-11T14:58:40.100570Z",
     "start_time": "2017-12-11T14:58:33.675719Z"
    }
   },
   "outputs": [
    {
     "name": "stderr",
     "output_type": "stream",
     "text": [
      "Using TensorFlow backend.\n",
      "/Users/davidoxnard/anaconda/lib/python3.6/importlib/_bootstrap.py:205: RuntimeWarning: compiletime version 3.5 of module 'tensorflow.python.framework.fast_tensor_util' does not match runtime version 3.6\n",
      "  return f(*args, **kwds)\n"
     ]
    }
   ],
   "source": [
    "import glob\n",
    "import pandas as pd\n",
    "import re\n",
    "from io import StringIO\n",
    "import numpy as np\n",
    "from scipy.io import wavfile\n",
    "from python_speech_features import mfcc\n",
    "import matplotlib.pyplot as plt\n",
    "import keras\n",
    "%matplotlib inline"
   ]
  },
  {
   "cell_type": "markdown",
   "metadata": {},
   "source": [
    "## Create DataFrames"
   ]
  },
  {
   "cell_type": "code",
   "execution_count": 3,
   "metadata": {
    "ExecuteTime": {
     "end_time": "2017-12-11T14:58:40.111976Z",
     "start_time": "2017-12-11T14:58:40.104031Z"
    },
    "collapsed": true
   },
   "outputs": [],
   "source": [
    "labels_filepath = './The Beatles Annotations/chordlab/The Beatles/*/*.lab'\n",
    "features_filepath = './The Beatles/wav_files/*.wav'"
   ]
  },
  {
   "cell_type": "code",
   "execution_count": 4,
   "metadata": {
    "ExecuteTime": {
     "end_time": "2017-12-11T14:58:40.181281Z",
     "start_time": "2017-12-11T14:58:40.116362Z"
    },
    "collapsed": true
   },
   "outputs": [],
   "source": [
    "labels = pd.DataFrame()\n",
    "\n",
    "labels['label_file'] = glob.glob(labels_filepath)\n",
    "labels['inferred_name'] = labels.label_file.apply(lambda x: re.sub(r'[0-9_\\-]+', ' ', x).split('/')[-1].split('.lab')[0].split('CD')[-1].strip().lower())"
   ]
  },
  {
   "cell_type": "code",
   "execution_count": 5,
   "metadata": {
    "ExecuteTime": {
     "end_time": "2017-12-11T14:58:40.202036Z",
     "start_time": "2017-12-11T14:58:40.183865Z"
    },
    "collapsed": true
   },
   "outputs": [],
   "source": [
    "features = pd.DataFrame()\n",
    "\n",
    "features['feature_file'] = glob.glob(features_filepath)\n",
    "features['inferred_name'] = features.feature_file.apply(lambda x: re.sub(r'[0-9]+', '', x).split('/')[-1].split('.wav')[0].strip().lower())"
   ]
  },
  {
   "cell_type": "markdown",
   "metadata": {},
   "source": [
    "## Define Preprocessing Functions"
   ]
  },
  {
   "cell_type": "code",
   "execution_count": 6,
   "metadata": {
    "ExecuteTime": {
     "end_time": "2017-12-11T14:58:40.249024Z",
     "start_time": "2017-12-11T14:58:40.204616Z"
    },
    "collapsed": true
   },
   "outputs": [],
   "source": [
    "key_map = {\n",
    "    \n",
    "    # Maj chords, all enharmonic equivalents\n",
    "    'A':0,\n",
    "    'B':1,\n",
    "    'C':2,\n",
    "    'D':3,\n",
    "    'E':4,\n",
    "    'F':5,\n",
    "    'G':6,\n",
    "    'Ab':7,\n",
    "    'Abb':7,\n",
    "    'Bb':8,\n",
    "    'Bbb':8,\n",
    "    'Cb':1,\n",
    "    'Db':9,\n",
    "    'Eb':10,\n",
    "    'Fb':4,\n",
    "    'Gb':11,\n",
    "    'A#':8,\n",
    "    'B#':2,\n",
    "    'C#':9,\n",
    "    'D#':10,\n",
    "    'E#':5,\n",
    "    'F#':11,\n",
    "    'G#':7,\n",
    "    \n",
    "    # Min chords, all enharmonic equivalents.\n",
    "    'A min':12,\n",
    "    'B min':13,\n",
    "    'C min':14,\n",
    "    'D min':15,\n",
    "    'E min':16,\n",
    "    'F min':17,\n",
    "    'G min':18,\n",
    "    'Ab min':19,\n",
    "    'Bb min':20,\n",
    "    'Cb min':13,\n",
    "    'Db min':21,\n",
    "    'Eb min':22,\n",
    "    'Fb min':16,\n",
    "    'Gb min':23,\n",
    "    'A# min':20,\n",
    "    'B# min':14,\n",
    "    'C# min':21,\n",
    "    'D# min':22,\n",
    "    'E# min':17,\n",
    "    'F# min':23,\n",
    "    'G# min':19,\n",
    "    \n",
    "    # None\n",
    "    'N': 24\n",
    "}"
   ]
  },
  {
   "cell_type": "code",
   "execution_count": 7,
   "metadata": {
    "ExecuteTime": {
     "end_time": "2017-12-11T14:58:40.296661Z",
     "start_time": "2017-12-11T14:58:40.253444Z"
    },
    "collapsed": true
   },
   "outputs": [],
   "source": [
    "relative_map = {\n",
    "    \n",
    "    # Maj chords, all enharmonic equivalents\n",
    "    'A':0,\n",
    "    'B':1,\n",
    "    'C':2,\n",
    "    'D':3,\n",
    "    'E':4,\n",
    "    'F':5,\n",
    "    'G':6,\n",
    "    'Ab':7,\n",
    "    'Abb':7,\n",
    "    'Bb':8,\n",
    "    'Bbb':8,\n",
    "    'Cb':1,\n",
    "    'Db':9,\n",
    "    'Eb':10,\n",
    "    'Fb':4,\n",
    "    'Gb':11,\n",
    "    'A#':8,\n",
    "    'B#':2,\n",
    "    'C#':9,\n",
    "    'D#':10,\n",
    "    'E#':5,\n",
    "    'F#':11,\n",
    "    'G#':7,\n",
    "    \n",
    "    # Min chords, all enharmonic equivalents.\n",
    "    'A min':2,\n",
    "    'B min':3,\n",
    "    'C min':10,\n",
    "    'D min':5,\n",
    "    'E min':6,\n",
    "    'F min':7,\n",
    "    'G min':8,\n",
    "    'Ab min':1,\n",
    "    'Bb min':9,\n",
    "    'Cb min':3,\n",
    "    'Db min':4,\n",
    "    'Eb min':11,\n",
    "    'Fb min':6,\n",
    "    'Gb min':0,\n",
    "    'A# min':9,\n",
    "    'B# min':10,\n",
    "    'C# min':4,\n",
    "    'D# min':11,\n",
    "    'E# min':7,\n",
    "    'F# min':0,\n",
    "    'G# min':1,\n",
    "    \n",
    "    # None\n",
    "    'N': 12\n",
    "}"
   ]
  },
  {
   "cell_type": "code",
   "execution_count": 8,
   "metadata": {
    "ExecuteTime": {
     "end_time": "2017-12-11T14:58:40.310386Z",
     "start_time": "2017-12-11T14:58:40.299848Z"
    },
    "collapsed": true
   },
   "outputs": [],
   "source": [
    "cof_map = {\n",
    "    \n",
    "    0:4,\n",
    "    1:6,\n",
    "    2:1,\n",
    "    3:3,\n",
    "    4:5,\n",
    "    5:0,\n",
    "    6:2,\n",
    "    7:9,\n",
    "    8:11,\n",
    "    9:8,\n",
    "    10:10,\n",
    "    11:7,\n",
    "    12:12,\n",
    "}"
   ]
  },
  {
   "cell_type": "code",
   "execution_count": 9,
   "metadata": {
    "ExecuteTime": {
     "end_time": "2017-12-11T14:58:40.322033Z",
     "start_time": "2017-12-11T14:58:40.313637Z"
    },
    "collapsed": true
   },
   "outputs": [],
   "source": [
    "def chromagram_plot(clip, rate):\n",
    "    \"\"\"Helper function for plotting chromagram of audio segments.\"\"\"\n",
    "    \n",
    "    plt.figure(figsize=(8,4))\n",
    "    librosa.display.specshow(clip, sr=rate, x_axis='time', y_axis='chroma', vmin=0, vmax=1)\n",
    "    plt.title(\"Chromagram\", fontsize=20)\n",
    "    plt.colorbar()\n",
    "    plt.tight_layout();"
   ]
  },
  {
   "cell_type": "code",
   "execution_count": 10,
   "metadata": {
    "ExecuteTime": {
     "end_time": "2017-12-11T14:58:40.354868Z",
     "start_time": "2017-12-11T14:58:40.324844Z"
    },
    "collapsed": true
   },
   "outputs": [],
   "source": [
    "def create_chromagram(start_sec, stop_sec, filename, channel='both'):\n",
    "    \n",
    "    rate, wave = wavfile.read(filename)\n",
    "    start = int(start_sec * rate)\n",
    "    stop = int(stop_sec * rate)\n",
    "    \n",
    "    # Can switch these guys in and out!\n",
    "    left_channel = wave[start:stop,0] # One of the two stereo channels\n",
    "    right_channel = wave[start:stop,1] # Second of the two stereo channels\n",
    "    mean_channel = np.mean(wave[start:stop], axis=1) # Mean of the two stereo channels.  Might also be a way to get mono from scipy.\n",
    "    \n",
    "    if channel == 'both':\n",
    "        wave = mean_channel.astype('float64')\n",
    "    elif channel == 'left':\n",
    "        wave = left_channel.astype('float64')\n",
    "    elif channel == 'right':\n",
    "        wave = right_channel.astype('float64')\n",
    "    else:\n",
    "        print(\"ERROR at {0}: PLEASE SELECT A VALID CHANNEL: {'left', 'right', 'both'}\".format(filename))\n",
    "    \n",
    "    wave_harmonic, wave_percussive = librosa.effects.hpss(wave)\n",
    "    \n",
    "    C = librosa.feature.chroma_cqt(wave_harmonic, sr=rate)\n",
    "    \n",
    "    return C, rate"
   ]
  },
  {
   "cell_type": "code",
   "execution_count": 11,
   "metadata": {
    "ExecuteTime": {
     "end_time": "2017-12-11T14:58:40.374057Z",
     "start_time": "2017-12-11T14:58:40.358965Z"
    },
    "collapsed": true
   },
   "outputs": [],
   "source": [
    "def get_timestamps(filename, dictionary):\n",
    "    \"\"\"\n",
    "    Insert name, start, stop and msucial key into the passed distionary.\n",
    "    To use in iterating over annotation files.\n",
    "    \"\"\"\n",
    "    \n",
    "    with open(filename, 'r') as f_obj:\n",
    "        text = f_obj.readlines()\n",
    "        inferred_name = re.sub(r'[0-9_\\-]+', ' ', filename).split('/')[-1].split('.lab')[0].split('CD')[-1].strip().lower()\n",
    "        end_stamp = float(text[-1].split()[1])   # relic of an old idea.\n",
    "        for line in text:\n",
    "            line = line.split()        \n",
    "            start = float(line[0])\n",
    "            stop = float(line[1])\n",
    "            musical_key = line[2]\n",
    "            new_key = (inferred_name, start, stop)\n",
    "            dictionary[new_key] = musical_key"
   ]
  },
  {
   "cell_type": "code",
   "execution_count": 12,
   "metadata": {
    "ExecuteTime": {
     "end_time": "2017-12-11T14:58:40.390841Z",
     "start_time": "2017-12-11T14:58:40.377414Z"
    },
    "collapsed": true
   },
   "outputs": [],
   "source": [
    "def clean_ys(y):\n",
    "    \"\"\"\n",
    "    Substitute complex chords into their simple maj/min versions.\n",
    "    \"\"\"\n",
    "\n",
    "    for i, chord in enumerate(y):\n",
    "        if not len(chord) == 1:\n",
    "            chord = chord.split(':')\n",
    "            tonality = re.sub(r'[0-9/]+', '', chord[0])\n",
    "            flavor = chord[-1]\n",
    "            if \"min\" in flavor:\n",
    "                y[i] = tonality + ' min'\n",
    "            else:\n",
    "                y[i] = tonality\n",
    "    return y"
   ]
  },
  {
   "cell_type": "code",
   "execution_count": 13,
   "metadata": {
    "ExecuteTime": {
     "end_time": "2017-12-11T14:58:40.428543Z",
     "start_time": "2017-12-11T14:58:40.396973Z"
    },
    "collapsed": true
   },
   "outputs": [],
   "source": [
    "def add_padding(x, maxlen=500):\n",
    "    \"\"\"Pad/trim so that every sample has the same length.\"\"\"\n",
    "    \n",
    "    # May want to increase maxlen from 500! Not sure the total dist of chomragram lengths.\n",
    "\n",
    "    for i in range(len(x)):\n",
    "        x[i] = x[i][:,:maxlen]\n",
    "        q = maxlen - x[i].shape[1]\n",
    "        p = q//2\n",
    "#         if q % 2 == 0:\n",
    "#             x[i] = np.pad(x[i], ((p,p), (0,0)), 'constant', constant_values=(0,0))\n",
    "#         else:\n",
    "#             x[i] = np.pad(x[i], ((p,p+1), (0,0)), 'constant', constant_values=(0,0))\n",
    "\n",
    "        print\n",
    "        if q % 2 == 0:\n",
    "            x[i] = np.pad(x[i], ((0,0), (p,p)), 'constant', constant_values=(0,0))\n",
    "        else:\n",
    "            x[i] = np.pad(x[i], ((0,0), (p,p+1)), 'constant', constant_values=(0,0))\n",
    "            \n",
    "    return x"
   ]
  },
  {
   "cell_type": "code",
   "execution_count": 14,
   "metadata": {
    "ExecuteTime": {
     "end_time": "2017-12-11T14:58:40.467922Z",
     "start_time": "2017-12-11T14:58:40.431805Z"
    },
    "collapsed": true
   },
   "outputs": [],
   "source": [
    "# Constructs X and Y.\n",
    "# Took 37.5s for TEST_SIZE = 1.\n",
    "# Took 5m 6s for TEST_SIZE = 10.\n",
    "# Took 24m 56s for TEST_SIZE = 50.\n",
    "# Took 2h 26m 4s for TEST_SIZE = 180.\n",
    "# Took 1h 49m 53s for TEST_SIZE = 180 another time.\n",
    "\n",
    "def construct_vars(lookup):\n",
    "    \"\"\"\n",
    "    Pass the dictionary of songs/timestamps/keys.\n",
    "    Create the corresponding x and y variables.\n",
    "    \"\"\"\n",
    "    \n",
    "    x_chroma = []\n",
    "    y = []\n",
    "    \n",
    "    \n",
    "    for k, v in lookup.items():\n",
    "        \n",
    "        inferred, start, stop = k\n",
    "        musical_key = v\n",
    "\n",
    "        filename = features[features.inferred_name == inferred].feature_file.values[0]\n",
    "\n",
    "        try:\n",
    "            x_chroma.append(create_chromagram(start, stop, filename, channel='both')[0])\n",
    "            y.append(v)\n",
    "        except:\n",
    "            print(\"CHROMA ERROR:\\nStart: {0}\\nStop: {1}\\nName: {2}\\n\\n\\n\".format(start, stop, inferred))\n",
    "    \n",
    "    x_chroma = add_padding(x_chroma)\n",
    "    x = np.zeros((len(x_chroma), x_chroma[0].shape[0], x_chroma[0].shape[1]))\n",
    "    for i in range(len(x)):\n",
    "        x[i,:,:] = x_chroma[i]\n",
    "    \n",
    "    \n",
    "    y = clean_ys(y)\n",
    "    y = list(map(lambda x: relative_map[x], y))    # Switched out key_map  \n",
    "    \n",
    "    return x, y"
   ]
  },
  {
   "cell_type": "markdown",
   "metadata": {},
   "source": [
    "## Create Features, Labels"
   ]
  },
  {
   "cell_type": "code",
   "execution_count": 34,
   "metadata": {
    "ExecuteTime": {
     "end_time": "2017-12-11T15:27:17.987214Z",
     "start_time": "2017-12-11T15:27:17.823482Z"
    },
    "collapsed": true
   },
   "outputs": [],
   "source": [
    "lookup = {}\n",
    "\n",
    "TEST_SIZE = 50\n",
    "\n",
    "\n",
    "for filename in labels.label_file[:TEST_SIZE]:\n",
    "    get_timestamps(filename, lookup)"
   ]
  },
  {
   "cell_type": "code",
   "execution_count": 35,
   "metadata": {
    "ExecuteTime": {
     "end_time": "2017-12-11T15:52:15.766197Z",
     "start_time": "2017-12-11T15:27:19.461937Z"
    },
    "scrolled": true
   },
   "outputs": [
    {
     "name": "stderr",
     "output_type": "stream",
     "text": [
      "/Users/davidoxnard/anaconda/lib/python3.6/site-packages/librosa/core/pitch.py:145: UserWarning: Trying to estimate tuning from empty frequency set.\n",
      "  warnings.warn('Trying to estimate tuning from empty frequency set.')\n"
     ]
    },
    {
     "name": "stdout",
     "output_type": "stream",
     "text": [
      "CHROMA ERROR:\n",
      "Start: 125.251687\n",
      "Stop: 126.226925\n",
      "Name: words of love\n",
      "\n",
      "\n",
      "\n",
      "CHROMA ERROR:\n",
      "Start: 126.226925\n",
      "Stop: 128.258671\n",
      "Name: words of love\n",
      "\n",
      "\n",
      "\n",
      "CHROMA ERROR:\n",
      "Start: 128.258671\n",
      "Stop: 129.245519\n",
      "Name: words of love\n",
      "\n",
      "\n",
      "\n",
      "CHROMA ERROR:\n",
      "Start: 129.245519\n",
      "Stop: 133.024226\n",
      "Name: words of love\n",
      "\n",
      "\n",
      "\n",
      "CHROMA ERROR:\n",
      "Start: 133.024226\n",
      "Stop: 134.739592\n",
      "Name: words of love\n",
      "\n",
      "\n",
      "\n"
     ]
    }
   ],
   "source": [
    "x, y = construct_vars(lookup)"
   ]
  },
  {
   "cell_type": "code",
   "execution_count": 36,
   "metadata": {
    "ExecuteTime": {
     "end_time": "2017-12-11T15:52:15.784819Z",
     "start_time": "2017-12-11T15:52:15.771419Z"
    }
   },
   "outputs": [
    {
     "data": {
      "text/plain": [
       "(3797, (3797, 12, 500))"
      ]
     },
     "execution_count": 36,
     "metadata": {},
     "output_type": "execute_result"
    }
   ],
   "source": [
    "len(y), x.shape"
   ]
  },
  {
   "cell_type": "code",
   "execution_count": 37,
   "metadata": {
    "ExecuteTime": {
     "end_time": "2017-12-11T15:52:16.296588Z",
     "start_time": "2017-12-11T15:52:15.788815Z"
    },
    "scrolled": true
   },
   "outputs": [
    {
     "data": {
      "image/png": "[encoded data removed]",
      "text/plain": [
       "<matplotlib.figure.Figure at 0x124443c50>"
      ]
     },
     "metadata": {},
     "output_type": "display_data"
    }
   ],
   "source": [
    "chromagram_plot(x[1], 4800)"
   ]
  },
  {
   "cell_type": "code",
   "execution_count": 38,
   "metadata": {
    "ExecuteTime": {
     "end_time": "2017-12-11T15:52:16.304526Z",
     "start_time": "2017-12-11T15:52:16.299159Z"
    }
   },
   "outputs": [
    {
     "data": {
      "text/plain": [
       "(12, 500)"
      ]
     },
     "execution_count": 38,
     "metadata": {},
     "output_type": "execute_result"
    }
   ],
   "source": [
    "x[1].shape"
   ]
  },
  {
   "cell_type": "code",
   "execution_count": 39,
   "metadata": {
    "ExecuteTime": {
     "end_time": "2017-12-11T15:52:16.314138Z",
     "start_time": "2017-12-11T15:52:16.307435Z"
    }
   },
   "outputs": [
    {
     "data": {
      "text/plain": [
       "(3797, 12, 500)"
      ]
     },
     "execution_count": 39,
     "metadata": {},
     "output_type": "execute_result"
    }
   ],
   "source": [
    "x.shape"
   ]
  },
  {
   "cell_type": "code",
   "execution_count": 40,
   "metadata": {
    "ExecuteTime": {
     "end_time": "2017-12-11T15:52:16.323470Z",
     "start_time": "2017-12-11T15:52:16.318560Z"
    },
    "collapsed": true
   },
   "outputs": [],
   "source": [
    "x_reshaped = np.reshape(x, (x.shape[0], 12, 500, 1))"
   ]
  },
  {
   "cell_type": "code",
   "execution_count": 41,
   "metadata": {
    "ExecuteTime": {
     "end_time": "2017-12-11T15:52:16.334252Z",
     "start_time": "2017-12-11T15:52:16.326769Z"
    },
    "collapsed": true
   },
   "outputs": [],
   "source": [
    "y_mapped_to_cof = list(map(lambda x: cof_map[x], y))"
   ]
  },
  {
   "cell_type": "markdown",
   "metadata": {},
   "source": [
    "# Neural Net"
   ]
  },
  {
   "cell_type": "code",
   "execution_count": 23,
   "metadata": {
    "ExecuteTime": {
     "end_time": "2017-12-11T15:06:11.846169Z",
     "start_time": "2017-12-11T15:06:11.838773Z"
    },
    "collapsed": true
   },
   "outputs": [],
   "source": [
    "def top_3(y_true, y_pred):\n",
    "    return keras.metrics.sparse_top_k_categorical_accuracy(y_true, y_pred, k=3)"
   ]
  },
  {
   "cell_type": "code",
   "execution_count": null,
   "metadata": {
    "ExecuteTime": {
     "end_time": "2017-12-10T21:27:12.662722Z",
     "start_time": "2017-12-10T21:27:12.628333Z"
    },
    "collapsed": true
   },
   "outputs": [],
   "source": [
    "nadam = keras.optimizers.Nadam(lr=0.002, beta_1=0.9, beta_2=0.999, epsilon=1e-08, schedule_decay=0.004)"
   ]
  },
  {
   "cell_type": "code",
   "execution_count": 94,
   "metadata": {
    "ExecuteTime": {
     "end_time": "2017-12-11T17:35:45.523473Z",
     "start_time": "2017-12-11T17:35:45.510110Z"
    },
    "collapsed": true
   },
   "outputs": [],
   "source": [
    "def my_fit(model_layers):\n",
    "\n",
    "    model = keras.Sequential(model_layers)\n",
    "\n",
    "    model.summary()\n",
    "\n",
    "    model.compile(\n",
    "        loss='sparse_categorical_crossentropy',\n",
    "#         loss='mean_absolute_error',\n",
    "        optimizer='nadam',\n",
    "#         optimizer=nadam,\n",
    "        metrics=['accuracy']) #, top_3])\n",
    "\n",
    "    history = model.fit(\n",
    "        x_reshaped,\n",
    "        y,\n",
    "        batch_size=100,\n",
    "        epochs=50,\n",
    "        verbose=1,\n",
    "        validation_split=.2,\n",
    "        callbacks=[keras.callbacks.EarlyStopping(verbose=1)])\n",
    "\n",
    "#     plot_history(history)\n",
    "\n",
    "    return model #, history"
   ]
  },
  {
   "cell_type": "code",
   "execution_count": 95,
   "metadata": {
    "ExecuteTime": {
     "end_time": "2017-12-11T17:35:47.256033Z",
     "start_time": "2017-12-11T17:35:47.250177Z"
    },
    "collapsed": true
   },
   "outputs": [],
   "source": [
    "init_stddev = 0.01\n",
    "dropout_prob = 0.5\n",
    "num_labels = max(y)+1"
   ]
  },
  {
   "cell_type": "code",
   "execution_count": 96,
   "metadata": {
    "ExecuteTime": {
     "end_time": "2017-12-11T17:35:48.905077Z",
     "start_time": "2017-12-11T17:35:48.891381Z"
    },
    "collapsed": true
   },
   "outputs": [],
   "source": [
    "# Single Dense Layer.\n",
    "\n",
    "model_layers1 = [\n",
    "    keras.layers.InputLayer(input_shape=x_reshaped[0].shape),\n",
    "    keras.layers.Flatten(),\n",
    "    keras.layers.Dropout(.9),\n",
    "    \n",
    "    keras.layers.Dense(16, activation='relu'),\n",
    "\n",
    "    # Classification\n",
    "    keras.layers.Dense(\n",
    "        max(y)+1,\n",
    "        activation=\"softmax\",\n",
    "        kernel_initializer=keras.initializers.TruncatedNormal(\n",
    "            stddev=0.01)),\n",
    "]"
   ]
  },
  {
   "cell_type": "code",
   "execution_count": 61,
   "metadata": {
    "ExecuteTime": {
     "end_time": "2017-12-11T16:16:45.694238Z",
     "start_time": "2017-12-11T16:16:45.670012Z"
    },
    "collapsed": true
   },
   "outputs": [],
   "source": [
    "# Epoch 6: val_acc: 0.6039 - val_top_3: 0.8434\n",
    "\n",
    "model_layers2 =[\n",
    "    keras.layers.InputLayer(input_shape=x_reshaped[0].shape),\n",
    "\n",
    "    # Conv layer\n",
    "    keras.layers.Conv2D(\n",
    "        186,\n",
    "        kernel_size=(8, x_reshaped[0].shape[1]),\n",
    "        padding=\"valid\",\n",
    "        activation=\"relu\",\n",
    "        kernel_initializer=keras.initializers.TruncatedNormal(\n",
    "            stddev=init_stddev)),\n",
    "    keras.layers.BatchNormalization(),\n",
    "    keras.layers.Flatten(),\n",
    "    keras.layers.Dropout(dropout_prob),\n",
    "\n",
    "    # Hidden Layer 1\n",
    "    keras.layers.Dense(\n",
    "        128,\n",
    "        activation=\"relu\",\n",
    "        kernel_initializer=keras.initializers.TruncatedNormal(\n",
    "            stddev=init_stddev)),\n",
    "    keras.layers.Dropout(dropout_prob),\n",
    "    \n",
    "    # Class Layer 2\n",
    "    keras.layers.Dense(\n",
    "        num_labels,\n",
    "        activation=\"softmax\",\n",
    "        kernel_initializer=keras.initializers.TruncatedNormal(\n",
    "            stddev=init_stddev)),\n",
    "]"
   ]
  },
  {
   "cell_type": "code",
   "execution_count": 79,
   "metadata": {
    "ExecuteTime": {
     "end_time": "2017-12-11T16:20:47.012480Z",
     "start_time": "2017-12-11T16:20:46.967959Z"
    },
    "collapsed": true
   },
   "outputs": [],
   "source": [
    "# Epoch 2: val_acc: 0.2211 - val_top_3: 0.4145\n",
    "\n",
    "model_layers3 = [\n",
    "    keras.layers.InputLayer(input_shape=x_reshaped[0].shape),\n",
    "\n",
    "    # conv layer 1\n",
    "    keras.layers.Conv2D(\n",
    "        64,\n",
    "        kernel_size=(5, 5),\n",
    "        padding=\"same\",\n",
    "        activation=\"relu\",\n",
    "        kernel_initializer=keras.initializers.TruncatedNormal(\n",
    "            stddev=init_stddev)),\n",
    "    keras.layers.MaxPool2D(\n",
    "        pool_size=(2, 2), \n",
    "        strides=(2, 2), \n",
    "        padding=\"same\"),\n",
    "    keras.layers.BatchNormalization(),\n",
    "    keras.layers.Dropout(dropout_prob),\n",
    "\n",
    "    # Conv layer 2\n",
    "    keras.layers.Conv2D(\n",
    "        64,\n",
    "        kernel_size=(4, 10),\n",
    "        padding=\"same\",\n",
    "        activation=\"relu\",\n",
    "        kernel_initializer=keras.initializers.TruncatedNormal(\n",
    "            stddev=init_stddev)),\n",
    "    keras.layers.MaxPool2D(\n",
    "        pool_size=(2, 2), \n",
    "        strides=(2, 2), \n",
    "        padding=\"same\"),\n",
    "    keras.layers.BatchNormalization(),\n",
    "    keras.layers.Flatten(),\n",
    "    keras.layers.Dropout(dropout_prob),\n",
    "    \n",
    "    # Hidden Layer\n",
    "    keras.layers.Dense(\n",
    "        num_labels,\n",
    "        activation=\"relu\",\n",
    "        kernel_initializer=keras.initializers.TruncatedNormal(\n",
    "            stddev=init_stddev)),\n",
    "    keras.layers.Dropout(dropout_prob),\n",
    "\n",
    "    # Classification\n",
    "    keras.layers.Dense(\n",
    "        num_labels,\n",
    "        activation=\"softmax\",\n",
    "        kernel_initializer=keras.initializers.TruncatedNormal(\n",
    "            stddev=init_stddev)),\n",
    "]"
   ]
  },
  {
   "cell_type": "code",
   "execution_count": null,
   "metadata": {
    "ExecuteTime": {
     "end_time": "2017-12-10T20:48:46.999732Z",
     "start_time": "2017-12-10T20:48:46.978337Z"
    },
    "collapsed": true
   },
   "outputs": [],
   "source": [
    "\n",
    "\n",
    "model_layers4 =[\n",
    "    keras.layers.InputLayer(input_shape=x_reshaped[0].shape),\n",
    "\n",
    "    # Conv layer\n",
    "    keras.layers.Conv2D(\n",
    "        16,\n",
    "        kernel_size=(4, 4),\n",
    "        padding=\"valid\",\n",
    "        activation=\"relu\",\n",
    "        kernel_initializer=keras.initializers.TruncatedNormal(\n",
    "            stddev=init_stddev)),\n",
    "    keras.layers.BatchNormalization(),\n",
    "    keras.layers.Flatten(),\n",
    "    keras.layers.Dropout(dropout_prob),\n",
    "\n",
    "    # Hidden Layer 1\n",
    "    keras.layers.Dense(\n",
    "        64,\n",
    "        activation=\"relu\",\n",
    "        kernel_initializer=keras.initializers.TruncatedNormal(\n",
    "            stddev=init_stddev)),\n",
    "    keras.layers.Dropout(dropout_prob),\n",
    "    \n",
    "    # Class Layer 2\n",
    "    keras.layers.Dense(\n",
    "        num_labels,\n",
    "        activation=\"softmax\",\n",
    "        kernel_initializer=keras.initializers.TruncatedNormal(\n",
    "            stddev=init_stddev)),\n",
    "]"
   ]
  },
  {
   "cell_type": "code",
   "execution_count": null,
   "metadata": {
    "ExecuteTime": {
     "end_time": "2017-12-10T20:59:16.674555Z",
     "start_time": "2017-12-10T20:59:16.634357Z"
    },
    "collapsed": true
   },
   "outputs": [],
   "source": [
    "\n",
    "\n",
    "model_layers5 =[\n",
    "    keras.layers.InputLayer(input_shape=x_reshaped[0].shape),\n",
    "\n",
    "    # Conv layer\n",
    "    keras.layers.Conv2D(\n",
    "        16,\n",
    "        kernel_size=(6, 6),\n",
    "        padding=\"valid\",\n",
    "        activation=\"relu\",\n",
    "        kernel_initializer=keras.initializers.TruncatedNormal(\n",
    "            stddev=init_stddev)),\n",
    "    keras.layers.BatchNormalization(),\n",
    "    keras.layers.Flatten(),\n",
    "    keras.layers.Dropout(dropout_prob),\n",
    "\n",
    "    # Hidden Layer 1\n",
    "    keras.layers.Dense(\n",
    "        64,\n",
    "        activation=\"relu\",\n",
    "        kernel_initializer=keras.initializers.TruncatedNormal(\n",
    "            stddev=init_stddev)),\n",
    "    keras.layers.Dropout(dropout_prob),\n",
    "    \n",
    "    # Class Layer 2\n",
    "    keras.layers.Dense(\n",
    "        num_labels,\n",
    "        activation=\"softmax\",\n",
    "        kernel_initializer=keras.initializers.TruncatedNormal(\n",
    "            stddev=init_stddev)),\n",
    "]"
   ]
  },
  {
   "cell_type": "code",
   "execution_count": 21,
   "metadata": {
    "ExecuteTime": {
     "end_time": "2017-12-11T00:48:10.299417Z",
     "start_time": "2017-12-11T00:48:10.245071Z"
    },
    "collapsed": true
   },
   "outputs": [],
   "source": [
    "\n",
    "\n",
    "model_layers6 =[\n",
    "    keras.layers.InputLayer(input_shape=x_reshaped[0].shape),\n",
    "\n",
    "    # Conv layer\n",
    "    keras.layers.Conv2D(\n",
    "        16,\n",
    "        kernel_size=(6, 100),\n",
    "        padding=\"valid\",\n",
    "        activation=\"relu\",\n",
    "        kernel_initializer=keras.initializers.TruncatedNormal(\n",
    "            stddev=init_stddev)),\n",
    "    keras.layers.BatchNormalization(),\n",
    "    keras.layers.Flatten(),\n",
    "    keras.layers.Dropout(dropout_prob),\n",
    "\n",
    "    # Hidden Layer 1\n",
    "    keras.layers.Dense(\n",
    "        64,\n",
    "        activation=\"relu\",\n",
    "        kernel_initializer=keras.initializers.TruncatedNormal(\n",
    "            stddev=init_stddev)),\n",
    "    keras.layers.Dropout(dropout_prob),\n",
    "    \n",
    "    # Class Layer 2\n",
    "    keras.layers.Dense(\n",
    "        num_labels,\n",
    "        activation=\"softmax\",\n",
    "        kernel_initializer=keras.initializers.TruncatedNormal(\n",
    "            stddev=init_stddev)),\n",
    "]"
   ]
  },
  {
   "cell_type": "code",
   "execution_count": null,
   "metadata": {
    "ExecuteTime": {
     "end_time": "2017-12-10T21:27:36.311270Z",
     "start_time": "2017-12-10T21:27:36.280679Z"
    },
    "collapsed": true
   },
   "outputs": [],
   "source": [
    "\n",
    "\n",
    "model_layers7 =[\n",
    "    keras.layers.InputLayer(input_shape=x_reshaped[0].shape),\n",
    "\n",
    "    # Conv layer\n",
    "    keras.layers.Conv2D(\n",
    "        16,\n",
    "        kernel_size=(6, 100),\n",
    "        padding=\"valid\",\n",
    "        activation=\"relu\",\n",
    "        kernel_initializer=keras.initializers.TruncatedNormal(\n",
    "            stddev=init_stddev)),\n",
    "    keras.layers.MaxPool2D(\n",
    "        pool_size=(3, 100), \n",
    "        strides=(2, 2), \n",
    "        padding=\"same\"),\n",
    "    keras.layers.BatchNormalization(),\n",
    "    keras.layers.Flatten(),\n",
    "    keras.layers.Dropout(dropout_prob),\n",
    "\n",
    "    # Hidden Layer 1\n",
    "    keras.layers.Dense(\n",
    "        64,\n",
    "        activation=\"relu\",\n",
    "        kernel_initializer=keras.initializers.TruncatedNormal(\n",
    "            stddev=init_stddev)),\n",
    "    keras.layers.Dropout(dropout_prob),\n",
    "    \n",
    "    # Class Layer 2\n",
    "    keras.layers.Dense(\n",
    "        num_labels,\n",
    "        activation=\"softmax\",\n",
    "        kernel_initializer=keras.initializers.TruncatedNormal(\n",
    "            stddev=init_stddev)),\n",
    "]"
   ]
  },
  {
   "cell_type": "code",
   "execution_count": 81,
   "metadata": {
    "ExecuteTime": {
     "end_time": "2017-12-11T16:29:57.044842Z",
     "start_time": "2017-12-11T16:29:57.011859Z"
    },
    "collapsed": true
   },
   "outputs": [],
   "source": [
    "# Epoch 6: val_acc: 0.5763 - val_top_3: 0.7987\n",
    "\n",
    "model_layers8 =[\n",
    "    keras.layers.InputLayer(input_shape=x_reshaped[0].shape),\n",
    "\n",
    "    # Conv layer\n",
    "    keras.layers.Conv2D(\n",
    "        16,\n",
    "        kernel_size=(6, 100),\n",
    "        padding=\"valid\",\n",
    "        activation=\"relu\",\n",
    "        kernel_initializer=keras.initializers.TruncatedNormal(\n",
    "            stddev=init_stddev)),\n",
    "#     keras.layers.MaxPool2D(\n",
    "#         pool_size=(3, 100), \n",
    "#         strides=(2, 2)),\n",
    "    keras.layers.BatchNormalization(),\n",
    "    keras.layers.Flatten(),\n",
    "    keras.layers.Dropout(dropout_prob),\n",
    "\n",
    "    # Hidden Layer 1\n",
    "    keras.layers.Dense(\n",
    "        256,\n",
    "        activation=\"relu\",\n",
    "        kernel_initializer=keras.initializers.TruncatedNormal(\n",
    "            stddev=init_stddev)),\n",
    "    keras.layers.Dropout(dropout_prob),\n",
    "    \n",
    "    # Class Layer 2\n",
    "    keras.layers.Dense(\n",
    "        num_labels,\n",
    "        activation=\"softmax\",\n",
    "        kernel_initializer=keras.initializers.TruncatedNormal(\n",
    "            stddev=init_stddev)),\n",
    "]"
   ]
  },
  {
   "cell_type": "code",
   "execution_count": 112,
   "metadata": {
    "ExecuteTime": {
     "end_time": "2017-12-11T03:10:55.857884Z",
     "start_time": "2017-12-11T03:10:55.842849Z"
    },
    "collapsed": true
   },
   "outputs": [],
   "source": [
    "# Didn't get the dimensions to work.\n",
    "\n",
    "model_layers9 =[\n",
    "    keras.layers.InputLayer(input_shape=x_reshaped[0].shape),\n",
    "\n",
    "    # Conv layer\n",
    "    keras.layers.Conv2D(\n",
    "        16,\n",
    "        kernel_size=(6, 100),\n",
    "        padding=\"valid\",\n",
    "        activation=\"relu\",\n",
    "        kernel_initializer=keras.initializers.TruncatedNormal(\n",
    "            stddev=init_stddev)),\n",
    "    keras.layers.MaxPool2D(\n",
    "        pool_size=(3, 100), \n",
    "        strides=(2, 2)),\n",
    "    keras.layers.BatchNormalization(),\n",
    "    keras.layers.Flatten(),\n",
    "    keras.layers.Dropout(dropout_prob),\n",
    "\n",
    "    # Hidden Layer 1\n",
    "    keras.layers.Dense(\n",
    "        16,\n",
    "        activation=\"relu\",\n",
    "        kernel_initializer=keras.initializers.TruncatedNormal(\n",
    "            stddev=init_stddev)),\n",
    "    keras.layers.Dropout(dropout_prob),\n",
    "    \n",
    "    # Class Layer 2\n",
    "    keras.layers.Dense(\n",
    "        num_labels,\n",
    "        activation=\"linear\",\n",
    "        kernel_initializer=keras.initializers.TruncatedNormal(\n",
    "            stddev=init_stddev)),\n",
    "]"
   ]
  },
  {
   "cell_type": "code",
   "execution_count": 83,
   "metadata": {
    "ExecuteTime": {
     "end_time": "2017-12-11T16:40:15.269621Z",
     "start_time": "2017-12-11T16:40:15.224128Z"
    },
    "collapsed": true
   },
   "outputs": [],
   "source": [
    "\n",
    "\n",
    "model_layers10 =[\n",
    "    keras.layers.InputLayer(input_shape=x_reshaped[0].shape),\n",
    "\n",
    "    # Conv layer\n",
    "    keras.layers.Conv2D(\n",
    "        16,\n",
    "        kernel_size=(6, 100),\n",
    "        padding=\"valid\",\n",
    "        activation=\"relu\",\n",
    "        kernel_initializer=keras.initializers.TruncatedNormal(\n",
    "            stddev=init_stddev)),\n",
    "#     keras.layers.MaxPool2D(\n",
    "#         pool_size=(3, 100), \n",
    "#         strides=(2, 2)),\n",
    "    keras.layers.BatchNormalization(),\n",
    "    keras.layers.Flatten(),\n",
    "    keras.layers.Dropout(dropout_prob),\n",
    "\n",
    "    # Hidden Layer 1\n",
    "    keras.layers.Dense(\n",
    "        256,\n",
    "        activation=\"relu\",\n",
    "        kernel_initializer=keras.initializers.TruncatedNormal(\n",
    "            stddev=init_stddev)),\n",
    "    keras.layers.Dropout(dropout_prob),\n",
    "        keras.layers.Dense(\n",
    "        16,\n",
    "        activation=\"relu\",\n",
    "        kernel_initializer=keras.initializers.TruncatedNormal(\n",
    "            stddev=init_stddev)),\n",
    "    keras.layers.Dropout(dropout_prob),\n",
    "    \n",
    "    # Class Layer 2\n",
    "    keras.layers.Dense(\n",
    "        num_labels,\n",
    "        activation=\"softmax\",\n",
    "        kernel_initializer=keras.initializers.TruncatedNormal(\n",
    "            stddev=init_stddev)),\n",
    "]"
   ]
  },
  {
   "cell_type": "code",
   "execution_count": 97,
   "metadata": {
    "ExecuteTime": {
     "end_time": "2017-12-11T17:36:01.531352Z",
     "start_time": "2017-12-11T17:35:55.849980Z"
    },
    "scrolled": false
   },
   "outputs": [
    {
     "name": "stdout",
     "output_type": "stream",
     "text": [
      "_________________________________________________________________\n",
      "Layer (type)                 Output Shape              Param #   \n",
      "=================================================================\n",
      "input_12 (InputLayer)        (None, 12, 500, 1)        0         \n",
      "_________________________________________________________________\n",
      "flatten_12 (Flatten)         (None, 6000)              0         \n",
      "_________________________________________________________________\n",
      "dropout_29 (Dropout)         (None, 6000)              0         \n",
      "_________________________________________________________________\n",
      "dense_28 (Dense)             (None, 16)                96016     \n",
      "_________________________________________________________________\n",
      "dense_29 (Dense)             (None, 13)                221       \n",
      "=================================================================\n",
      "Total params: 96,237\n",
      "Trainable params: 96,237\n",
      "Non-trainable params: 0\n",
      "_________________________________________________________________\n",
      "Train on 3037 samples, validate on 760 samples\n",
      "Epoch 1/50\n",
      "3037/3037 [==============================] - 2s 645us/step - loss: 2.2074 - acc: 0.2176 - val_loss: 2.2781 - val_acc: 0.2487\n",
      "Epoch 2/50\n",
      "3037/3037 [==============================] - 1s 218us/step - loss: 1.9247 - acc: 0.3602 - val_loss: 1.9151 - val_acc: 0.4803\n",
      "Epoch 3/50\n",
      "3037/3037 [==============================] - 1s 195us/step - loss: 1.7059 - acc: 0.4452 - val_loss: 1.7986 - val_acc: 0.4750\n",
      "Epoch 4/50\n",
      "3037/3037 [==============================] - 1s 204us/step - loss: 1.5808 - acc: 0.4857 - val_loss: 1.6742 - val_acc: 0.5303\n",
      "Epoch 5/50\n",
      "3037/3037 [==============================] - 1s 198us/step - loss: 1.5177 - acc: 0.5002 - val_loss: 1.6296 - val_acc: 0.5118\n",
      "Epoch 6/50\n",
      "3037/3037 [==============================] - 1s 200us/step - loss: 1.5107 - acc: 0.5074 - val_loss: 1.6446 - val_acc: 0.5171\n",
      "Epoch 00006: early stopping\n"
     ]
    }
   ],
   "source": [
    "model = my_fit(model_layers1)"
   ]
  },
  {
   "cell_type": "code",
   "execution_count": 98,
   "metadata": {
    "ExecuteTime": {
     "end_time": "2017-12-11T17:36:10.353996Z",
     "start_time": "2017-12-11T17:36:09.842964Z"
    },
    "collapsed": true
   },
   "outputs": [],
   "source": [
    "# save_filepath = 'dec10_test_model.h5'\n",
    "# model.save(save_filepath)"
   ]
  },
  {
   "cell_type": "code",
   "execution_count": 101,
   "metadata": {
    "ExecuteTime": {
     "end_time": "2017-12-11T19:23:53.091212Z",
     "start_time": "2017-12-11T19:23:52.465066Z"
    },
    "collapsed": true
   },
   "outputs": [],
   "source": [
    "y_pred = model.predict(np.reshape(x[0], (1, 12, 500, 1)))"
   ]
  },
  {
   "cell_type": "code",
   "execution_count": 107,
   "metadata": {
    "ExecuteTime": {
     "end_time": "2017-12-11T19:25:45.695463Z",
     "start_time": "2017-12-11T19:25:45.623802Z"
    },
    "collapsed": true
   },
   "outputs": [],
   "source": [
    "probs = []\n",
    "for i in range(62):\n",
    "    probs.append(np.max(model.predict(np.reshape(x[i], (1, 12, 500, 1)))))"
   ]
  },
  {
   "cell_type": "code",
   "execution_count": 109,
   "metadata": {
    "ExecuteTime": {
     "end_time": "2017-12-11T19:25:53.387709Z",
     "start_time": "2017-12-11T19:25:53.376576Z"
    }
   },
   "outputs": [
    {
     "data": {
      "text/plain": [
       "[0.30241385,\n",
       " 0.90174961,\n",
       " 0.53617287,\n",
       " 0.91697454,\n",
       " 0.35139337,\n",
       " 0.4716121,\n",
       " 0.28480408,\n",
       " 0.79281527,\n",
       " 0.4415254,\n",
       " 0.70684123,\n",
       " 0.52354759,\n",
       " 0.94531286,\n",
       " 0.54144096,\n",
       " 0.95802259,\n",
       " 0.34432465,\n",
       " 0.53386366,\n",
       " 0.34266254,\n",
       " 0.77141178,\n",
       " 0.40955931,\n",
       " 0.71223009,\n",
       " 0.40662208,\n",
       " 0.80607009,\n",
       " 0.72866893,\n",
       " 0.39284682,\n",
       " 0.40612495,\n",
       " 0.81848979,\n",
       " 0.55085164,\n",
       " 0.90922451,\n",
       " 0.27508846,\n",
       " 0.82582748,\n",
       " 0.80808175,\n",
       " 0.50752753,\n",
       " 0.5903303,\n",
       " 0.37849727,\n",
       " 0.73843551,\n",
       " 0.29977426,\n",
       " 0.92609209,\n",
       " 0.63983876,\n",
       " 0.59841722,\n",
       " 0.27958024,\n",
       " 0.70726234,\n",
       " 0.61399806,\n",
       " 0.35262609,\n",
       " 0.38631004,\n",
       " 0.80617106,\n",
       " 0.51765603,\n",
       " 0.83834893,\n",
       " 0.25535318,\n",
       " 0.66514927,\n",
       " 0.23748206,\n",
       " 0.75137252,\n",
       " 0.46714652,\n",
       " 0.57431757,\n",
       " 0.43766975,\n",
       " 0.93448758,\n",
       " 0.36303568,\n",
       " 0.94663274,\n",
       " 0.32825744,\n",
       " 0.67180616,\n",
       " 0.28675279,\n",
       " 0.37876764,\n",
       " 0.63557887]"
      ]
     },
     "execution_count": 109,
     "metadata": {},
     "output_type": "execute_result"
    }
   ],
   "source": [
    "probs"
   ]
  },
  {
   "cell_type": "code",
   "execution_count": null,
   "metadata": {
    "collapsed": true
   },
   "outputs": [],
   "source": []
  }
 ],
 "metadata": {
  "kernelspec": {
   "display_name": "Python 3",
   "language": "python",
   "name": "python3"
  },
  "language_info": {
   "codemirror_mode": {
    "name": "ipython",
    "version": 3
   },
   "file_extension": ".py",
   "mimetype": "text/x-python",
   "name": "python",
   "nbconvert_exporter": "python",
   "pygments_lexer": "ipython3",
   "version": "3.6.1"
  },
  "toc": {
   "nav_menu": {
    "height": "256px",
    "width": "244px"
   },
   "number_sections": true,
   "sideBar": true,
   "skip_h1_title": false,
   "toc_cell": false,
   "toc_position": {},
   "toc_section_display": "block",
   "toc_window_display": false
  }
 },
 "nbformat": 4,
 "nbformat_minor": 2
}
